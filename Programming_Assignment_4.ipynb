{
 "cells": [
  {
   "cell_type": "code",
   "execution_count": 9,
   "id": "be9e2a8a",
   "metadata": {},
   "outputs": [
    {
     "name": "stdout",
     "output_type": "stream",
     "text": [
      "Kindly enter number >= 0\n"
     ]
    }
   ],
   "source": [
    "#1.\tWrite a Python Program to Find the Factorial of a Number?\n",
    "def factorial_k(n):\n",
    "    \"\"\"\n",
    "    This function calculate factorial of a given number\n",
    "    \"\"\"\n",
    "    if n >= 0:\n",
    "        x=1\n",
    "        for i in range(1,n):\n",
    "            x = x*(i+1)\n",
    "        return x\n",
    "    else:\n",
    "        print(\"Kindly enter number >= 0\")\n",
    "\n",
    "factorial_k(-1)"
   ]
  },
  {
   "cell_type": "code",
   "execution_count": 19,
   "id": "df940cf3",
   "metadata": {},
   "outputs": [
    {
     "name": "stdout",
     "output_type": "stream",
     "text": [
      "Kindly enter number : 4\n",
      "Multiplication table for number 4 is :\n",
      "4 X 1 = 4\n",
      "4 X 2 = 8\n",
      "4 X 3 = 12\n",
      "4 X 4 = 16\n",
      "4 X 5 = 20\n",
      "4 X 6 = 24\n",
      "4 X 7 = 28\n",
      "4 X 8 = 32\n",
      "4 X 9 = 36\n",
      "4 X 10 = 40\n"
     ]
    }
   ],
   "source": [
    "#2.\tWrite a Python Program to Display the multiplication Table?\n",
    "def table_k(n):\n",
    "    \"\"\"\n",
    "    This function generate multiplication table\n",
    "    \"\"\"\n",
    "    if n>=1:\n",
    "        print(\"Multiplication table for number {} is :\".format(n))\n",
    "        for i in range(1,11):\n",
    "            print(\"{} X {} = {}\".format(n,i,n*i))\n",
    "    else:\n",
    "        print(\"Kindly enter number greater than or equal to 1\")\n",
    "        \n",
    "\n",
    "num=0\n",
    "try:\n",
    "    num = int(input(\"Kindly enter number : \"))\n",
    "    table_k(num)\n",
    "except Exception as e:\n",
    "    print(e)"
   ]
  },
  {
   "cell_type": "code",
   "execution_count": 27,
   "id": "2eb30a7c",
   "metadata": {},
   "outputs": [
    {
     "name": "stdout",
     "output_type": "stream",
     "text": [
      "Kindly enter number to generate fibonacci series : 10\n",
      "Fibonacci table till level 10 is :\n",
      "0\n",
      "1\n",
      "1\n",
      "2\n",
      "3\n",
      "5\n",
      "8\n",
      "13\n",
      "21\n",
      "34\n",
      "55\n"
     ]
    }
   ],
   "source": [
    "#3.\tWrite a Python Program to Print the Fibonacci sequence?\n",
    "def fibonacci_k(n):\n",
    "    \"\"\"\n",
    "    This function generate Fibonacci series\n",
    "    \"\"\"\n",
    "    a = 0\n",
    "    b = 1\n",
    "    print(\"Fibonacci table till level {} is :\".format(n))\n",
    "    for i in range(n+1):\n",
    "        yield(a)\n",
    "        a,b=b,b+a           \n",
    "num=0\n",
    "try:\n",
    "    num = int(input(\"Kindly enter number to generate fibonacci series : \"))\n",
    "    for i in fibonacci_k(num):\n",
    "        print(i)\n",
    "except Exception as e:\n",
    "    print(e)\n"
   ]
  },
  {
   "cell_type": "code",
   "execution_count": 42,
   "id": "b1560398",
   "metadata": {},
   "outputs": [
    {
     "name": "stdout",
     "output_type": "stream",
     "text": [
      "Kindly enter number to check : jkjhkh\n",
      "invalid literal for int() with base 10: 'jkjhkh'\n"
     ]
    }
   ],
   "source": [
    "#4.\tWrite a Python Program to Check Armstrong Number?\n",
    "def check_Armstrong_k(n):\n",
    "    \"\"\"\n",
    "    This function tells whether the number is Armstrong or not. Output is a boolean value.\n",
    "    \"\"\"\n",
    "    num_1=0\n",
    "    try:\n",
    "        for i in str(n):\n",
    "            num_1 = num_1+int(i)**3\n",
    "        if num_1==n:\n",
    "            print(True)\n",
    "        else:\n",
    "            print(False)\n",
    "    except Exception as e:\n",
    "        print(e)\n",
    "        \n",
    "\n",
    "try:\n",
    "    x = int(input(\"Kindly enter number to check : \"))\n",
    "    check_Armstrong_k(x)\n",
    "except Exception as e:\n",
    "    print(e)\n",
    "\n"
   ]
  },
  {
   "cell_type": "code",
   "execution_count": 47,
   "id": "6bad08d0",
   "metadata": {},
   "outputs": [
    {
     "name": "stdout",
     "output_type": "stream",
     "text": [
      "Kindly enter lower bound to check : 1\n",
      "Kindly enter upper bound to check : 500000\n",
      "1\n",
      "153\n",
      "370\n",
      "371\n",
      "407\n"
     ]
    }
   ],
   "source": [
    "#5.\tWrite a Python Program to Find Armstrong Number in an Interval?\n",
    "def check_Armstrong_k(n1,n2):\n",
    "    \"\"\"\n",
    "    This function tells whether the number is Armstrong or not. Output is a boolean value.\n",
    "    \"\"\"\n",
    "    num_1=0\n",
    "    if n2>=n1:\n",
    "        for t in range(n1,n2):\n",
    "            num_1=0\n",
    "            for i in str(t):\n",
    "                num_1 = num_1+int(i)**3\n",
    "            if num_1==t:\n",
    "                print(\"{}\".format(t))\n",
    "    else:\n",
    "        print(\"lower bound cant be greater than upper bound\")\n",
    "        \n",
    "\n",
    "try:\n",
    "    x = int(input(\"Kindly enter lower bound to check : \"))\n",
    "    y = int(input(\"Kindly enter upper bound to check : \"))\n",
    "    check_Armstrong_k(x,y)\n",
    "except Exception as e:\n",
    "    print(e)"
   ]
  },
  {
   "cell_type": "code",
   "execution_count": 51,
   "id": "7e309742",
   "metadata": {},
   "outputs": [
    {
     "name": "stdout",
     "output_type": "stream",
     "text": [
      "Kindly enter number : 10\n",
      "Sum of all natural num till 10 is 45\n"
     ]
    }
   ],
   "source": [
    "#6.\tWrite a Python Program to Find the Sum of Natural Numbers?\n",
    "def sum_natural_k(n):\n",
    "    \"\"\"\n",
    "    This function sum all the natural number\n",
    "    \"\"\"\n",
    "    x = 0\n",
    "    for i in range(1,n):\n",
    "        x = x+i\n",
    "        \n",
    "    return(x)    \n",
    "    \n",
    "try:\n",
    "    inp = int(input(\"Kindly enter number : \"))\n",
    "    su = sum_natural_k(inp)\n",
    "    print(\"Sum of all natural num till {} is {}\".format(inp,su))\n",
    "except Exception as e:\n",
    "    print(e)"
   ]
  },
  {
   "cell_type": "code",
   "execution_count": null,
   "id": "db279d3d",
   "metadata": {},
   "outputs": [],
   "source": []
  }
 ],
 "metadata": {
  "kernelspec": {
   "display_name": "Python 3 (ipykernel)",
   "language": "python",
   "name": "python3"
  },
  "language_info": {
   "codemirror_mode": {
    "name": "ipython",
    "version": 3
   },
   "file_extension": ".py",
   "mimetype": "text/x-python",
   "name": "python",
   "nbconvert_exporter": "python",
   "pygments_lexer": "ipython3",
   "version": "3.9.7"
  }
 },
 "nbformat": 4,
 "nbformat_minor": 5
}
