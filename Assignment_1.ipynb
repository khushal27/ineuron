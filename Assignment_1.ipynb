{
 "cells": [
  {
   "cell_type": "markdown",
   "id": "606147d2",
   "metadata": {},
   "source": [
    "1. In the below elements which of them are values or an expression? eg:- values can be integer or string and expressions will be mathematical operators.\n",
    "\n",
    "* \n",
    "'hello'\n",
    "-87.8\n",
    "- \n",
    "/ \n",
    "+\t\n",
    "6 \n",
    "\n",
    "Answer : \n",
    "1) values are 'hello',-87.8 , 6\n",
    "2) Expressions are * , -, /, + "
   ]
  },
  {
   "cell_type": "markdown",
   "id": "695084a3",
   "metadata": {},
   "source": [
    "2. What is the difference between string and variable?\n",
    "Answer : string is a one of the datatype(type of data) and variable is entity to store a data like string , integer , float , complex number."
   ]
  },
  {
   "cell_type": "markdown",
   "id": "d1e904ee",
   "metadata": {},
   "source": [
    "3. Describe three different data types.\n",
    "Answer :\n",
    "1) int : this denotes integer datatype. Ex . 1 ,457 , 17\n",
    "2) str : this denotes integer datatype. Ex . 'ineuron' ,\"37\" , \"Khushal's decision to join ineuron is the best decision\"\n",
    "3) float : 1.00 , 4.56 , 78.52658\n"
   ]
  },
  {
   "cell_type": "markdown",
   "id": "e107976f",
   "metadata": {},
   "source": [
    "4. What is an expression made up of? What do all expressions do?\n",
    "Answer : epression is made up of some values , operators , functions . Expression is written to evaluate or calculate something."
   ]
  },
  {
   "cell_type": "markdown",
   "id": "a27b31bf",
   "metadata": {},
   "source": [
    "5. This assignment statements, like spam = 10. What is the difference between an expression and a statement?\n",
    "Answer : statement is used to assign some values to variable. Expression then can uses this variable to do some calculation. "
   ]
  },
  {
   "cell_type": "markdown",
   "id": "7da17fca",
   "metadata": {},
   "source": [
    "6. After running the following code, what does the variable bacon contain?\n",
    "bacon = 22\n",
    "bacon + 1\n",
    "\n",
    "Answer : 22"
   ]
  },
  {
   "cell_type": "markdown",
   "id": "5a6c2070",
   "metadata": {},
   "source": [
    "7. What should the values of the following two terms be?\n",
    "'spam' + 'spamspam'\n",
    "'spam' * 3\n",
    "Answer : \n",
    "1) 'spamspamspam'\n",
    "2) 'spamspamspam'\n"
   ]
  },
  {
   "cell_type": "markdown",
   "id": "73c05e95",
   "metadata": {},
   "source": [
    "8. Why is eggs a valid variable name while 100 is invalid?\n",
    "Answer : In Python variable name is not allowed to start with number."
   ]
  },
  {
   "cell_type": "markdown",
   "id": "e7889221",
   "metadata": {},
   "source": [
    "9. What three functions can be used to get the integer, floating-point number, or string version of a value?\n",
    "Answer : int(),float(),str()"
   ]
  },
  {
   "cell_type": "markdown",
   "id": "c7edf7c1",
   "metadata": {},
   "source": [
    "10. Why does this expression cause an error? How can you fix it? 'I have eaten ' + 99 + ' burritos.'\n",
    "Answer : int datatype is not allowed to concatenate with str . here we need to put 99 as string as below :\n",
    "'I have eaten ' + '99' + ' burritos.' or 'I have eaten ' + str(99) + ' burritos.'"
   ]
  }
 ],
 "metadata": {
  "kernelspec": {
   "display_name": "Python 3 (ipykernel)",
   "language": "python",
   "name": "python3"
  },
  "language_info": {
   "codemirror_mode": {
    "name": "ipython",
    "version": 3
   },
   "file_extension": ".py",
   "mimetype": "text/x-python",
   "name": "python",
   "nbconvert_exporter": "python",
   "pygments_lexer": "ipython3",
   "version": "3.9.7"
  }
 },
 "nbformat": 4,
 "nbformat_minor": 5
}
