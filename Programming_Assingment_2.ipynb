{
 "cells": [
  {
   "cell_type": "code",
   "execution_count": 4,
   "id": "142970cd",
   "metadata": {},
   "outputs": [
    {
     "name": "stdout",
     "output_type": "stream",
     "text": [
      "Enter number to convert into miles : 1.25\n",
      "1.25 KM is equal to 0.77671375 miles!\n"
     ]
    }
   ],
   "source": [
    "#1.\tWrite a Python program to convert kilometers to miles?\n",
    "input_KM = input(\"Enter Kilometers number to convert into Miles : \")\n",
    "mile_con = 0.621371\n",
    "print(\"{} Kilometers is equal to {} Miles!\".format(float(input_KM),float(input_KM)*mile_con))"
   ]
  },
  {
   "cell_type": "code",
   "execution_count": 5,
   "id": "91710374",
   "metadata": {},
   "outputs": [
    {
     "name": "stdout",
     "output_type": "stream",
     "text": [
      "Enter Celsius number to convert into Fahrenheit : 1\n",
      "1.0 Celsius is equal to 33.8 Fahrenheit!\n"
     ]
    }
   ],
   "source": [
    "#2.\tWrite a Python program to convert Celsius to Fahrenheit?\n",
    "input_cel = input(\"Enter Celsius number to convert into Fahrenheit : \")\n",
    "Fah_con = 33.8\n",
    "print(\"{} Celsius is equal to {} Fahrenheit!\".format(float(input_cel),float(input_cel)*Fah_con))"
   ]
  },
  {
   "cell_type": "code",
   "execution_count": 46,
   "id": "af39ece0",
   "metadata": {},
   "outputs": [
    {
     "name": "stdout",
     "output_type": "stream",
     "text": [
      "Enter year : 2008\n",
      "Enter month in digit: 2\n",
      "\n",
      "\n",
      "   February 2008\n",
      "Mo Tu We Th Fr Sa Su\n",
      "             1  2  3\n",
      " 4  5  6  7  8  9 10\n",
      "11 12 13 14 15 16 17\n",
      "18 19 20 21 22 23 24\n",
      "25 26 27 28 29\n",
      "\n"
     ]
    }
   ],
   "source": [
    "#3.\tWrite a Python program to display calendar?\n",
    "import calendar\n",
    "\n",
    "#input year and month from user\n",
    "input_YY  = input(\"Enter year : \")\n",
    "if int(input_YY) == 0:\n",
    "    print(\"Please enter year greater than 0\")\n",
    "else:\n",
    "    input_MM  = input(\"Enter month in digit: \")\n",
    "    \n",
    "    if int(input_MM) < 1 or int(input_MM) > 12:\n",
    "        print(\"Please enter month between 1 and 12\")\n",
    "    else:\n",
    "        print(\"\\n\")\n",
    "        print(calendar.month(int(input_YY),int(input_MM)))\n"
   ]
  },
  {
   "cell_type": "code",
   "execution_count": 38,
   "id": "58f785be",
   "metadata": {},
   "outputs": [
    {
     "name": "stdout",
     "output_type": "stream",
     "text": [
      "This program will solve equation ax**2 + bx + c = 0 and will provide two possible values of x \n",
      "Enter value of a : 0\n",
      "Enter value of b : 1\n",
      "Enter value of c : 1\n",
      "Please enter non-zero values and real numbers for a,b,c!\n"
     ]
    }
   ],
   "source": [
    "#4.\tWrite a Python program to solve quadratic equation?\n",
    "print(\"This program will solve equation ax**2 + bx + c = 0 and will provide two possible values of x \")\n",
    "a = int(input(\"Enter value of a : \"))\n",
    "b = int(input(\"Enter value of b : \"))\n",
    "c = int(input(\"Enter value of c : \"))\n",
    "\n",
    "if a !=0 and type(b) != complex and type(c) != complex:\n",
    "    d = (b**2-4*a*c)**0.5\n",
    "    x1 = complex((-b-d)/(2*a))\n",
    "    x2 = complex((-b+d)/(2*a))\n",
    "    print(\"The solution are {} and {}\".format(x1,x2))\n",
    "else:\n",
    "    print(\"Please enter non-zero value for a and real numbers for a,b,c!\")"
   ]
  },
  {
   "cell_type": "code",
   "execution_count": 45,
   "id": "1af35469",
   "metadata": {},
   "outputs": [
    {
     "name": "stdout",
     "output_type": "stream",
     "text": [
      "Enter value of a : 10\n",
      "Enter value of b : ascas\n",
      "Before swapping value of a is 10 and b is ascas\n",
      "After swapping value of a is ascas and b is 10\n"
     ]
    }
   ],
   "source": [
    "#5.\tWrite a Python program to swap two variables without temp variable?\n",
    "a = input(\"Enter value of a : \")\n",
    "b = input(\"Enter value of b : \")\n",
    "print(\"Before swapping value of a is {} and b is {}\".format(a,b))\n",
    "a,b=b,a\n",
    "print(\"After swapping value of a is {} and b is {}\".format(a,b))\n"
   ]
  },
  {
   "cell_type": "code",
   "execution_count": null,
   "id": "ffff3402",
   "metadata": {},
   "outputs": [],
   "source": []
  }
 ],
 "metadata": {
  "kernelspec": {
   "display_name": "Python 3 (ipykernel)",
   "language": "python",
   "name": "python3"
  },
  "language_info": {
   "codemirror_mode": {
    "name": "ipython",
    "version": 3
   },
   "file_extension": ".py",
   "mimetype": "text/x-python",
   "name": "python",
   "nbconvert_exporter": "python",
   "pygments_lexer": "ipython3",
   "version": "3.9.7"
  }
 },
 "nbformat": 4,
 "nbformat_minor": 5
}
