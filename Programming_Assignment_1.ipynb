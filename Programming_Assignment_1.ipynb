{
 "cells": [
  {
   "cell_type": "code",
   "execution_count": 1,
   "id": "49ceccff",
   "metadata": {},
   "outputs": [
    {
     "name": "stdout",
     "output_type": "stream",
     "text": [
      "Hello Python\n"
     ]
    }
   ],
   "source": [
    "#1.\tWrite a Python program to print \"Hello Python\"?\n",
    "print(\"Hello Python\")"
   ]
  },
  {
   "cell_type": "code",
   "execution_count": 3,
   "id": "1f74eaa5",
   "metadata": {},
   "outputs": [
    {
     "name": "stdout",
     "output_type": "stream",
     "text": [
      "Addition of 10 and 20 is 30\n",
      "Division of 10 by 20 is equals to 0.5\n"
     ]
    }
   ],
   "source": [
    "#2.\tWrite a Python program to do arithmetical operations addition and division.?\n",
    "a = 10\n",
    "b = 20\n",
    "print(\"Addition of {} and {} is {}\".format(a,b,a+b))\n",
    "print(\"Division of {} by {} is equals to {}\".format(a,b,a/b))\n"
   ]
  },
  {
   "cell_type": "code",
   "execution_count": 4,
   "id": "40f8f3d4",
   "metadata": {},
   "outputs": [
    {
     "name": "stdout",
     "output_type": "stream",
     "text": [
      "Area of a triange when height given as 10 and base given as 5 is 25.0\n"
     ]
    }
   ],
   "source": [
    "#3.\tWrite a Python program to find the area of a triangle?\n",
    "height = 10\n",
    "base = 5\n",
    "print(\"Area of a triange when height given as {} and base given as {} is {}\".format(height,base,(height*base)/2))"
   ]
  },
  {
   "cell_type": "code",
   "execution_count": 5,
   "id": "44acec1f",
   "metadata": {},
   "outputs": [
    {
     "name": "stdout",
     "output_type": "stream",
     "text": [
      "Before swapping a = 10 and b = 20\n",
      "After swapping a = 20 and b = 10\n"
     ]
    }
   ],
   "source": [
    "#4.\tWrite a Python program to swap two variables?\n",
    "a = 10\n",
    "b = 20\n",
    "print(\"Before swapping a = {} and b = {}\".format(a,b))\n",
    "a,b = b,a\n",
    "print(\"After swapping a = {} and b = {}\".format(a,b))\n"
   ]
  },
  {
   "cell_type": "code",
   "execution_count": 50,
   "id": "1f0003e4",
   "metadata": {},
   "outputs": [
    {
     "name": "stdout",
     "output_type": "stream",
     "text": [
      "Random number : 2\n"
     ]
    }
   ],
   "source": [
    "#5.\tWrite a Python program to generate a random number?\n",
    "import time\n",
    "rand_num = int((time.time()%int(time.time()))*10)\n",
    "print(\"Random number : {}\".format(rand_num))\n"
   ]
  }
 ],
 "metadata": {
  "kernelspec": {
   "display_name": "Python 3 (ipykernel)",
   "language": "python",
   "name": "python3"
  },
  "language_info": {
   "codemirror_mode": {
    "name": "ipython",
    "version": 3
   },
   "file_extension": ".py",
   "mimetype": "text/x-python",
   "name": "python",
   "nbconvert_exporter": "python",
   "pygments_lexer": "ipython3",
   "version": "3.9.7"
  }
 },
 "nbformat": 4,
 "nbformat_minor": 5
}
